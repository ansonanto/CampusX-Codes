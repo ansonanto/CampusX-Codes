{
 "cells": [
  {
   "cell_type": "code",
   "execution_count": 62,
   "metadata": {},
   "outputs": [],
   "source": [
    "import pandas as pd\n",
    "import numpy as np\n",
    "import requests\n",
    "from bs4 import BeautifulSoup"
   ]
  },
  {
   "cell_type": "code",
   "execution_count": 5,
   "metadata": {},
   "outputs": [],
   "source": [
    "headers = {\"User-Agent\": \"Mozilla/5.0 (X11; Linux x86_64) AppleWebKit/537.36 (KHTML, like Gecko) Chrome/88.0.4324.96 Safari/537.36\"} \n",
    "webpage = requests.get('https://www.ambitionbox.com/list-of-companies?page=1', headers=headers).text"
   ]
  },
  {
   "cell_type": "code",
   "execution_count": 6,
   "metadata": {},
   "outputs": [],
   "source": [
    "soup = BeautifulSoup(webpage, 'lxml')"
   ]
  },
  {
   "cell_type": "code",
   "execution_count": 72,
   "metadata": {},
   "outputs": [],
   "source": [
    "#print(soup.prettify())"
   ]
  },
  {
   "cell_type": "code",
   "execution_count": 14,
   "metadata": {},
   "outputs": [
    {
     "data": {
      "text/plain": [
       "'List of companies in India'"
      ]
     },
     "execution_count": 14,
     "metadata": {},
     "output_type": "execute_result"
    }
   ],
   "source": [
    "soup.findAll('h1')[0].text"
   ]
  },
  {
   "cell_type": "code",
   "execution_count": 18,
   "metadata": {},
   "outputs": [
    {
     "name": "stdout",
     "output_type": "stream",
     "text": [
      "TCS\n",
      "Accenture\n",
      "Cognizant\n",
      "ICICI Bank\n",
      "HDFC Bank\n",
      "Infosys\n",
      "Wipro\n",
      "Capgemini\n",
      "Tech Mahindra\n",
      "Genpact\n",
      "HCL Technologies\n",
      "Axis Bank\n",
      "Amazon\n",
      "IBM\n",
      "Concentrix Corpo...\n",
      "Larsen & Toubro ...\n",
      "Reliance jio\n",
      "Vodafone Idea\n",
      "HDB Financial Se...\n",
      "Teleperformance\n",
      "Kotak Mahindra B...\n",
      "Bharti Airtel\n",
      "Reliance Industr...\n",
      "Deloitte\n",
      "Tata Motors\n",
      "Reliance Retail\n",
      "WNS\n",
      "Mahindra & Mahin...\n",
      "IndusInd Bank\n",
      "Flipkart\n"
     ]
    }
   ],
   "source": [
    "for i in soup.findAll('h2'):\n",
    "    print(i.text.strip())"
   ]
  },
  {
   "cell_type": "code",
   "execution_count": 71,
   "metadata": {},
   "outputs": [],
   "source": [
    "#soup.findAll('a', class_='review-count')"
   ]
  },
  {
   "cell_type": "code",
   "execution_count": 24,
   "metadata": {},
   "outputs": [],
   "source": [
    "company = soup.findAll('div', class_='company-content-wrapper')"
   ]
  },
  {
   "cell_type": "code",
   "execution_count": 25,
   "metadata": {},
   "outputs": [
    {
     "data": {
      "text/plain": [
       "30"
      ]
     },
     "execution_count": 25,
     "metadata": {},
     "output_type": "execute_result"
    }
   ],
   "source": [
    "len(company)"
   ]
  },
  {
   "cell_type": "code",
   "execution_count": 70,
   "metadata": {},
   "outputs": [
    {
     "data": {
      "text/html": [
       "<div>\n",
       "<style scoped>\n",
       "    .dataframe tbody tr th:only-of-type {\n",
       "        vertical-align: middle;\n",
       "    }\n",
       "\n",
       "    .dataframe tbody tr th {\n",
       "        vertical-align: top;\n",
       "    }\n",
       "\n",
       "    .dataframe thead th {\n",
       "        text-align: right;\n",
       "    }\n",
       "</style>\n",
       "<table border=\"1\" class=\"dataframe\">\n",
       "  <thead>\n",
       "    <tr style=\"text-align: right;\">\n",
       "      <th></th>\n",
       "      <th>name</th>\n",
       "      <th>rating</th>\n",
       "      <th>reviews</th>\n",
       "      <th>ctype</th>\n",
       "      <th>hq</th>\n",
       "      <th>old</th>\n",
       "      <th>employees</th>\n",
       "    </tr>\n",
       "  </thead>\n",
       "  <tbody>\n",
       "    <tr>\n",
       "      <th>0</th>\n",
       "      <td>TCS</td>\n",
       "      <td>3.9</td>\n",
       "      <td>(45.3k Reviews)</td>\n",
       "      <td>Public</td>\n",
       "      <td>Mumbai,Maharashtra + 261 more</td>\n",
       "      <td>54 years old</td>\n",
       "      <td>1 Lakh+ Employees (India)</td>\n",
       "    </tr>\n",
       "    <tr>\n",
       "      <th>1</th>\n",
       "      <td>Accenture</td>\n",
       "      <td>4.2</td>\n",
       "      <td>(30.5k Reviews)</td>\n",
       "      <td>Public</td>\n",
       "      <td>Dublin + 140 more</td>\n",
       "      <td>33 years old</td>\n",
       "      <td>1 Lakh+ Employees (India)</td>\n",
       "    </tr>\n",
       "    <tr>\n",
       "      <th>2</th>\n",
       "      <td>Cognizant</td>\n",
       "      <td>4.0</td>\n",
       "      <td>(27.5k Reviews)</td>\n",
       "      <td>Private</td>\n",
       "      <td>Teaneck. New Jersey. + 94 more</td>\n",
       "      <td>28 years old</td>\n",
       "      <td>1 Lakh+ Employees (India)</td>\n",
       "    </tr>\n",
       "    <tr>\n",
       "      <th>3</th>\n",
       "      <td>ICICI Bank</td>\n",
       "      <td>4.0</td>\n",
       "      <td>(33.1k Reviews)</td>\n",
       "      <td>Public</td>\n",
       "      <td>Mumbai,Maharashtra + 1027 more</td>\n",
       "      <td>28 years old</td>\n",
       "      <td>1 Lakh+ Employees (India)</td>\n",
       "    </tr>\n",
       "    <tr>\n",
       "      <th>4</th>\n",
       "      <td>HDFC Bank</td>\n",
       "      <td>4.0</td>\n",
       "      <td>(37.2k Reviews)</td>\n",
       "      <td>Public</td>\n",
       "      <td>Mumbai,Maharashtra + 1180 more</td>\n",
       "      <td>28 years old</td>\n",
       "      <td>1 Lakh+ Employees (India)</td>\n",
       "    </tr>\n",
       "    <tr>\n",
       "      <th>...</th>\n",
       "      <td>...</td>\n",
       "      <td>...</td>\n",
       "      <td>...</td>\n",
       "      <td>...</td>\n",
       "      <td>...</td>\n",
       "      <td>...</td>\n",
       "      <td>...</td>\n",
       "    </tr>\n",
       "    <tr>\n",
       "      <th>295</th>\n",
       "      <td>PepsiCo</td>\n",
       "      <td>4.2</td>\n",
       "      <td>(1.5k Reviews)</td>\n",
       "      <td>Private</td>\n",
       "      <td>Harrison,New York + 174 more</td>\n",
       "      <td>33 years old</td>\n",
       "      <td>1 Lakh+ Employees (India)</td>\n",
       "    </tr>\n",
       "    <tr>\n",
       "      <th>296</th>\n",
       "      <td>NIIT Technologie...</td>\n",
       "      <td>3.5</td>\n",
       "      <td>(1.4k Reviews)</td>\n",
       "      <td>Public</td>\n",
       "      <td>Noida,Uttar Pradesh + 77 more</td>\n",
       "      <td>18 years old</td>\n",
       "      <td>5k-10k Employees (India)</td>\n",
       "    </tr>\n",
       "    <tr>\n",
       "      <th>297</th>\n",
       "      <td>Statestreet HCL ...</td>\n",
       "      <td>3.4</td>\n",
       "      <td>(1.4k Reviews)</td>\n",
       "      <td>Private</td>\n",
       "      <td>New Delhi + 10 more</td>\n",
       "      <td>10 years old</td>\n",
       "      <td>5k-10k Employees (India)</td>\n",
       "    </tr>\n",
       "    <tr>\n",
       "      <th>298</th>\n",
       "      <td>Poonawalla Finco...</td>\n",
       "      <td>4.1</td>\n",
       "      <td>(1.7k Reviews)</td>\n",
       "      <td>Public</td>\n",
       "      <td>Mumbai,Maharashtra + 244 more</td>\n",
       "      <td>34 years old</td>\n",
       "      <td>5k-10k Employees (India)</td>\n",
       "    </tr>\n",
       "    <tr>\n",
       "      <th>299</th>\n",
       "      <td>Birlasoft</td>\n",
       "      <td>3.8</td>\n",
       "      <td>(1.4k Reviews)</td>\n",
       "      <td>Public</td>\n",
       "      <td>Pune,Maharashtra + 23 more</td>\n",
       "      <td>27 years old</td>\n",
       "      <td>10k-50k Employees (India)</td>\n",
       "    </tr>\n",
       "  </tbody>\n",
       "</table>\n",
       "<p>1650 rows × 7 columns</p>\n",
       "</div>"
      ],
      "text/plain": [
       "                    name rating          reviews    ctype  \\\n",
       "0                    TCS    3.9  (45.3k Reviews)   Public   \n",
       "1              Accenture    4.2  (30.5k Reviews)   Public   \n",
       "2              Cognizant    4.0  (27.5k Reviews)  Private   \n",
       "3             ICICI Bank    4.0  (33.1k Reviews)   Public   \n",
       "4              HDFC Bank    4.0  (37.2k Reviews)   Public   \n",
       "..                   ...    ...              ...      ...   \n",
       "295              PepsiCo    4.2   (1.5k Reviews)  Private   \n",
       "296  NIIT Technologie...    3.5   (1.4k Reviews)   Public   \n",
       "297  Statestreet HCL ...    3.4   (1.4k Reviews)  Private   \n",
       "298  Poonawalla Finco...    4.1   (1.7k Reviews)   Public   \n",
       "299            Birlasoft    3.8   (1.4k Reviews)   Public   \n",
       "\n",
       "                                 hq           old                  employees  \n",
       "0     Mumbai,Maharashtra + 261 more  54 years old  1 Lakh+ Employees (India)  \n",
       "1                 Dublin + 140 more  33 years old  1 Lakh+ Employees (India)  \n",
       "2    Teaneck. New Jersey. + 94 more  28 years old  1 Lakh+ Employees (India)  \n",
       "3    Mumbai,Maharashtra + 1027 more  28 years old  1 Lakh+ Employees (India)  \n",
       "4    Mumbai,Maharashtra + 1180 more  28 years old  1 Lakh+ Employees (India)  \n",
       "..                              ...           ...                        ...  \n",
       "295    Harrison,New York + 174 more  33 years old  1 Lakh+ Employees (India)  \n",
       "296   Noida,Uttar Pradesh + 77 more  18 years old   5k-10k Employees (India)  \n",
       "297             New Delhi + 10 more  10 years old   5k-10k Employees (India)  \n",
       "298   Mumbai,Maharashtra + 244 more  34 years old   5k-10k Employees (India)  \n",
       "299      Pune,Maharashtra + 23 more  27 years old  10k-50k Employees (India)  \n",
       "\n",
       "[1650 rows x 7 columns]"
      ]
     },
     "execution_count": 70,
     "metadata": {},
     "output_type": "execute_result"
    }
   ],
   "source": [
    "name = []\n",
    "rating =[]\n",
    "reviews=[]\n",
    "ctype=[]\n",
    "hq=[]\n",
    "old=[]\n",
    "employees=[]\n",
    "final=pd.DataFrame()\n",
    "headers = {\"User-Agent\": \"Mozilla/5.0 (X11; Linux x86_64) AppleWebKit/537.36 (KHTML, like Gecko) Chrome/88.0.4324.96 Safari/537.36\"} \n",
    "\n",
    "for k in range(1,11):\n",
    "    webpage = requests.get(f'https://www.ambitionbox.com/list-of-companies?page={k}', headers=headers).text\n",
    "    soup = BeautifulSoup(webpage, 'lxml')\n",
    "    company = soup.findAll('div', class_='company-content-wrapper')\n",
    "    \n",
    "    for i in company:\n",
    "        name.append(i.find('h2').text.strip())\n",
    "        rating.append(i.find('p', class_='rating').text.strip())\n",
    "        reviews.append(i.find('a', class_='review-count').text.strip())\n",
    "        info = i.find_all('p', class_='infoEntity')\n",
    "        try:\n",
    "            ctype.append(info[0].text.strip())\n",
    "        except:\n",
    "            ctype.append(np.nan)\n",
    "        try:\n",
    "            hq.append(info[1].text.strip())\n",
    "        except:\n",
    "            hq.append(np.nan)\n",
    "        try:\n",
    "            old.append(info[2].text.strip())\n",
    "        except:\n",
    "            old.append(np.nan)\n",
    "        try:\n",
    "            employees.append(info[3].text.strip())\n",
    "        except:\n",
    "            employees.append(np.nan)\n",
    "        \n",
    "\n",
    "    d = {'name':name, 'rating':rating, 'reviews':reviews, 'ctype':ctype,\n",
    "    'hq':hq, 'old':old, 'employees':employees}\n",
    "\n",
    "    df=pd.DataFrame(d)\n",
    "\n",
    "    final = final.append(df)\n",
    "final\n",
    "        "
   ]
  },
  {
   "cell_type": "code",
   "execution_count": null,
   "metadata": {},
   "outputs": [],
   "source": []
  },
  {
   "cell_type": "code",
   "execution_count": null,
   "metadata": {},
   "outputs": [],
   "source": []
  }
 ],
 "metadata": {
  "kernelspec": {
   "display_name": "Python 3",
   "language": "python",
   "name": "python3"
  },
  "language_info": {
   "codemirror_mode": {
    "name": "ipython",
    "version": 3
   },
   "file_extension": ".py",
   "mimetype": "text/x-python",
   "name": "python",
   "nbconvert_exporter": "python",
   "pygments_lexer": "ipython3",
   "version": "3.6.5"
  }
 },
 "nbformat": 4,
 "nbformat_minor": 2
}
