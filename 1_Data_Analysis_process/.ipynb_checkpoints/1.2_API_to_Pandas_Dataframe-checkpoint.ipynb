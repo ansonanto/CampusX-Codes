{
 "cells": [
  {
   "cell_type": "code",
   "execution_count": 8,
   "metadata": {},
   "outputs": [],
   "source": [
    "import requests\n",
    "import pandas as pd"
   ]
  },
  {
   "cell_type": "code",
   "execution_count": 5,
   "metadata": {},
   "outputs": [],
   "source": [
    "response = requests.get('https://api.themoviedb.org/3/movie/popular?api_key=220629820aa4e64a14880a6d84d41e42&language=en-US&page=1').json()"
   ]
  },
  {
   "cell_type": "code",
   "execution_count": 11,
   "metadata": {},
   "outputs": [
    {
     "data": {
      "text/html": [
       "<div>\n",
       "<style scoped>\n",
       "    .dataframe tbody tr th:only-of-type {\n",
       "        vertical-align: middle;\n",
       "    }\n",
       "\n",
       "    .dataframe tbody tr th {\n",
       "        vertical-align: top;\n",
       "    }\n",
       "\n",
       "    .dataframe thead th {\n",
       "        text-align: right;\n",
       "    }\n",
       "</style>\n",
       "<table border=\"1\" class=\"dataframe\">\n",
       "  <thead>\n",
       "    <tr style=\"text-align: right;\">\n",
       "      <th></th>\n",
       "      <th>title</th>\n",
       "      <th>overview</th>\n",
       "      <th>release_date</th>\n",
       "      <th>original_language</th>\n",
       "      <th>popularity</th>\n",
       "      <th>vote_count</th>\n",
       "      <th>vote_average</th>\n",
       "    </tr>\n",
       "  </thead>\n",
       "  <tbody>\n",
       "    <tr>\n",
       "      <th>0</th>\n",
       "      <td>Thor: Love and Thunder</td>\n",
       "      <td>After his retirement is interrupted by Gorr th...</td>\n",
       "      <td>2022-07-06</td>\n",
       "      <td>en</td>\n",
       "      <td>9386.438</td>\n",
       "      <td>1747</td>\n",
       "      <td>6.8</td>\n",
       "    </tr>\n",
       "    <tr>\n",
       "      <th>1</th>\n",
       "      <td>Minions: The Rise of Gru</td>\n",
       "      <td>A fanboy of a supervillain supergroup known as...</td>\n",
       "      <td>2022-06-29</td>\n",
       "      <td>en</td>\n",
       "      <td>4856.051</td>\n",
       "      <td>1163</td>\n",
       "      <td>7.8</td>\n",
       "    </tr>\n",
       "    <tr>\n",
       "      <th>2</th>\n",
       "      <td>Jurassic World Dominion</td>\n",
       "      <td>Four years after Isla Nublar was destroyed, di...</td>\n",
       "      <td>2022-06-01</td>\n",
       "      <td>en</td>\n",
       "      <td>4951.784</td>\n",
       "      <td>2615</td>\n",
       "      <td>7.1</td>\n",
       "    </tr>\n",
       "    <tr>\n",
       "      <th>3</th>\n",
       "      <td>Top Gun: Maverick</td>\n",
       "      <td>After more than thirty years of service as one...</td>\n",
       "      <td>2022-05-24</td>\n",
       "      <td>en</td>\n",
       "      <td>4194.193</td>\n",
       "      <td>1851</td>\n",
       "      <td>8.3</td>\n",
       "    </tr>\n",
       "    <tr>\n",
       "      <th>4</th>\n",
       "      <td>The Black Phone</td>\n",
       "      <td>Finney Shaw, a shy but clever 13-year-old boy,...</td>\n",
       "      <td>2022-06-22</td>\n",
       "      <td>en</td>\n",
       "      <td>3074.402</td>\n",
       "      <td>1667</td>\n",
       "      <td>8.0</td>\n",
       "    </tr>\n",
       "  </tbody>\n",
       "</table>\n",
       "</div>"
      ],
      "text/plain": [
       "                      title  \\\n",
       "0    Thor: Love and Thunder   \n",
       "1  Minions: The Rise of Gru   \n",
       "2   Jurassic World Dominion   \n",
       "3         Top Gun: Maverick   \n",
       "4           The Black Phone   \n",
       "\n",
       "                                            overview release_date  \\\n",
       "0  After his retirement is interrupted by Gorr th...   2022-07-06   \n",
       "1  A fanboy of a supervillain supergroup known as...   2022-06-29   \n",
       "2  Four years after Isla Nublar was destroyed, di...   2022-06-01   \n",
       "3  After more than thirty years of service as one...   2022-05-24   \n",
       "4  Finney Shaw, a shy but clever 13-year-old boy,...   2022-06-22   \n",
       "\n",
       "  original_language  popularity  vote_count  vote_average  \n",
       "0                en    9386.438        1747           6.8  \n",
       "1                en    4856.051        1163           7.8  \n",
       "2                en    4951.784        2615           7.1  \n",
       "3                en    4194.193        1851           8.3  \n",
       "4                en    3074.402        1667           8.0  "
      ]
     },
     "execution_count": 11,
     "metadata": {},
     "output_type": "execute_result"
    }
   ],
   "source": [
    "popularity =[]\n",
    "vote_count = []\n",
    "original_language = []\n",
    "title = []\n",
    "vote_average = []\n",
    "overview = []\n",
    "release_date = []\n",
    "\n",
    "for i in response['results']:\n",
    "    popularity.append(i['popularity'])\n",
    "    vote_count.append(i['vote_count'])\n",
    "    original_language.append(i['original_language'])\n",
    "    title.append(i['title'])\n",
    "    vote_average.append(i['vote_average'])\n",
    "    overview.append(i['overview'])\n",
    "    release_date.append(i['release_date'])\n",
    "    \n",
    "d = {'title':title, 'overview':overview, 'release_date':release_date,\n",
    "         'original_language': original_language, 'popularity':popularity,\n",
    "         'release_date':release_date,'vote_count':vote_count, \n",
    "         'vote_average':vote_average}\n",
    "    \n",
    "df = pd.DataFrame(d)\n",
    "\n",
    "df.head()"
   ]
  },
  {
   "cell_type": "markdown",
   "metadata": {},
   "source": [
    "### Now we need to do this for every page and append it."
   ]
  },
  {
   "cell_type": "code",
   "execution_count": 12,
   "metadata": {},
   "outputs": [
    {
     "data": {
      "text/plain": [
       "34666"
      ]
     },
     "execution_count": 12,
     "metadata": {},
     "output_type": "execute_result"
    }
   ],
   "source": [
    "response['total_pages']"
   ]
  },
  {
   "cell_type": "code",
   "execution_count": 13,
   "metadata": {},
   "outputs": [
    {
     "ename": "KeyError",
     "evalue": "'release_date'",
     "output_type": "error",
     "traceback": [
      "\u001b[0;31m---------------------------------------------------------------------------\u001b[0m",
      "\u001b[0;31mKeyError\u001b[0m                                  Traceback (most recent call last)",
      "\u001b[0;32m<ipython-input-13-403ad7a4868f>\u001b[0m in \u001b[0;36m<module>\u001b[0;34m()\u001b[0m\n\u001b[1;32m     17\u001b[0m         \u001b[0mvote_average\u001b[0m\u001b[0;34m.\u001b[0m\u001b[0mappend\u001b[0m\u001b[0;34m(\u001b[0m\u001b[0mi\u001b[0m\u001b[0;34m[\u001b[0m\u001b[0;34m'vote_average'\u001b[0m\u001b[0;34m]\u001b[0m\u001b[0;34m)\u001b[0m\u001b[0;34m\u001b[0m\u001b[0m\n\u001b[1;32m     18\u001b[0m         \u001b[0moverview\u001b[0m\u001b[0;34m.\u001b[0m\u001b[0mappend\u001b[0m\u001b[0;34m(\u001b[0m\u001b[0mi\u001b[0m\u001b[0;34m[\u001b[0m\u001b[0;34m'overview'\u001b[0m\u001b[0;34m]\u001b[0m\u001b[0;34m)\u001b[0m\u001b[0;34m\u001b[0m\u001b[0m\n\u001b[0;32m---> 19\u001b[0;31m         \u001b[0mrelease_date\u001b[0m\u001b[0;34m.\u001b[0m\u001b[0mappend\u001b[0m\u001b[0;34m(\u001b[0m\u001b[0mi\u001b[0m\u001b[0;34m[\u001b[0m\u001b[0;34m'release_date'\u001b[0m\u001b[0;34m]\u001b[0m\u001b[0;34m)\u001b[0m\u001b[0;34m\u001b[0m\u001b[0m\n\u001b[0m\u001b[1;32m     20\u001b[0m \u001b[0;34m\u001b[0m\u001b[0m\n\u001b[1;32m     21\u001b[0m     d = {'title':title, 'overview':overview, 'release_date':release_date,\n",
      "\u001b[0;31mKeyError\u001b[0m: 'release_date'"
     ]
    }
   ],
   "source": [
    "final = pd.DataFrame()\n",
    "for j in range(1, 10):\n",
    "    response = requests.get(f'https://api.themoviedb.org/3/movie/popular?api_key=220629820aa4e64a14880a6d84d41e42&language=en-US&page={j}').json()\n",
    "    popularity =[]\n",
    "    vote_count = []\n",
    "    original_language = []\n",
    "    title = []\n",
    "    vote_average = []\n",
    "    overview = []\n",
    "    release_date = []\n",
    "\n",
    "    for i in response['results']:\n",
    "        popularity.append(i['popularity'])\n",
    "        vote_count.append(i['vote_count'])\n",
    "        original_language.append(i['original_language'])\n",
    "        title.append(i['title'])\n",
    "        vote_average.append(i['vote_average'])\n",
    "        overview.append(i['overview'])\n",
    "        release_date.append(i['release_date'])\n",
    "\n",
    "    d = {'title':title, 'overview':overview, 'release_date':release_date,\n",
    "             'original_language': original_language, 'popularity':popularity,\n",
    "             'release_date':release_date,'vote_count':vote_count, \n",
    "             'vote_average':vote_average}\n",
    "\n",
    "    df = pd.DataFrame(d)\n",
    "    \n",
    "    final = final.append(df, ignore_index=True) #index wont repeat\n",
    "    "
   ]
  },
  {
   "cell_type": "code",
   "execution_count": null,
   "metadata": {},
   "outputs": [],
   "source": []
  }
 ],
 "metadata": {
  "kernelspec": {
   "display_name": "Python 3",
   "language": "python",
   "name": "python3"
  },
  "language_info": {
   "codemirror_mode": {
    "name": "ipython",
    "version": 3
   },
   "file_extension": ".py",
   "mimetype": "text/x-python",
   "name": "python",
   "nbconvert_exporter": "python",
   "pygments_lexer": "ipython3",
   "version": "3.6.5"
  }
 },
 "nbformat": 4,
 "nbformat_minor": 2
}
