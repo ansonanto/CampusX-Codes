{
 "cells": [
  {
   "cell_type": "code",
   "execution_count": 2,
   "metadata": {},
   "outputs": [],
   "source": [
    "import requests\n",
    "import pandas as pd"
   ]
  },
  {
   "cell_type": "code",
   "execution_count": null,
   "metadata": {},
   "outputs": [],
   "source": [
    "response = requests.get('https://api.themoviedb.org/3/movie/popular?api_key=220629820aa4e64a14880a6d84d41e42&language=en-US&page=1').json()"
   ]
  },
  {
   "cell_type": "code",
   "execution_count": null,
   "metadata": {},
   "outputs": [],
   "source": [
    "popularity =[]\n",
    "vote_count = []\n",
    "original_language = []\n",
    "title = []\n",
    "vote_average = []\n",
    "overview = []\n",
    "release_date = []\n",
    "\n",
    "for i in response['results']:\n",
    "    popularity.append(i['popularity'])\n",
    "    vote_count.append(i['vote_count'])\n",
    "    original_language.append(i['original_language'])\n",
    "    title.append(i['title'])\n",
    "    vote_average.append(i['vote_average'])\n",
    "    overview.append(i['overview'])\n",
    "    release_date.append(i['release_date'])\n",
    "    \n",
    "d = {'title':title, 'overview':overview, 'release_date':release_date,\n",
    "         'original_language': original_language, 'popularity':popularity,\n",
    "         'release_date':release_date,'vote_count':vote_count, \n",
    "         'vote_average':vote_average}\n",
    "    \n",
    "df = pd.DataFrame(d)\n",
    "\n",
    "df.head()"
   ]
  },
  {
   "cell_type": "markdown",
   "metadata": {},
   "source": [
    "### Now we need to do this for every page and append it."
   ]
  },
  {
   "cell_type": "code",
   "execution_count": null,
   "metadata": {},
   "outputs": [],
   "source": [
    "response['total_pages']"
   ]
  },
  {
   "cell_type": "code",
   "execution_count": null,
   "metadata": {},
   "outputs": [],
   "source": [
    "final = pd.DataFrame()\n",
    "for j in range(1, 31):\n",
    "    res = requests.get(f'https://api.themoviedb.org/3/movie/popular?api_key=220629820aa4e64a14880a6d84d41e42&language=en-US&page={j}').text\n",
    "    response = json.loads(res)\n",
    "    popularity =[]\n",
    "    vote_count = []\n",
    "    original_language = []\n",
    "    title = []\n",
    "    vote_average = []\n",
    "    overview = []\n",
    "    release_date = []\n",
    "\n",
    "    for i in response['results']:\n",
    "        popularity.append(i['popularity'])\n",
    "        vote_count.append(i['vote_count'])\n",
    "        original_language.append(i['original_language'])\n",
    "        title.append(i['title'])\n",
    "        vote_average.append(i['vote_average'])\n",
    "        overview.append(i['overview'])\n",
    "        release_date.append(i['release_date'])\n",
    "\n",
    "    d = {'title':title, 'overview':overview, 'release_date':release_date,\n",
    "             'original_language': original_language, 'popularity':popularity,\n",
    "             'release_date':release_date,'vote_count':vote_count, \n",
    "             'vote_average':vote_average}\n",
    "\n",
    "    df = pd.DataFrame(d)\n",
    "    \n",
    "    final = final.append(df, ignore_index=True) #index wont repeat\n",
    "final"
   ]
  },
  {
   "cell_type": "code",
   "execution_count": null,
   "metadata": {},
   "outputs": [],
   "source": [
    "final.to_csv('movies.csv')"
   ]
  }
 ],
 "metadata": {
  "kernelspec": {
   "display_name": "Python 3",
   "language": "python",
   "name": "python3"
  },
  "language_info": {
   "codemirror_mode": {
    "name": "ipython",
    "version": 3
   },
   "file_extension": ".py",
   "mimetype": "text/x-python",
   "name": "python",
   "nbconvert_exporter": "python",
   "pygments_lexer": "ipython3",
   "version": "3.6.5"
  }
 },
 "nbformat": 4,
 "nbformat_minor": 2
}
