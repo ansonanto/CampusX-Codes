{
 "cells": [
  {
   "cell_type": "code",
   "execution_count": 1,
   "metadata": {},
   "outputs": [
    {
     "name": "stdout",
     "output_type": "stream",
     "text": [
      "Collecting mysql-connector-python\n",
      "  Downloading mysql_connector_python-8.0.30-py2.py3-none-any.whl (351 kB)\n",
      "     |████████████████████████████████| 351 kB 169 kB/s            \n",
      "\u001b[?25hCollecting protobuf<=3.20.1,>=3.11.0\n",
      "  Downloading protobuf-3.19.4-cp36-cp36m-macosx_10_9_x86_64.whl (960 kB)\n",
      "     |████████████████████████████████| 960 kB 1.0 MB/s            \n",
      "\u001b[?25hInstalling collected packages: protobuf, mysql-connector-python\n",
      "Successfully installed mysql-connector-python-8.0.30 protobuf-3.19.4\n"
     ]
    }
   ],
   "source": [
    "! pip install mysql-connector-python"
   ]
  },
  {
   "cell_type": "code",
   "execution_count": 2,
   "metadata": {},
   "outputs": [],
   "source": [
    "import mysql.connector as connection\n",
    "import pandas as pd"
   ]
  },
  {
   "cell_type": "code",
   "execution_count": 6,
   "metadata": {
    "scrolled": false
   },
   "outputs": [
    {
     "data": {
      "text/plain": [
       "'mydb = connection.connect(\\n    host=\"campusxdb-instance.c98zqacq3vgm.us-east-2.rds.amazonaws.com:3306\", \\n    database = \\'demodb\\',\\n    user=\"root\", \\n    passwd=\"12345678\",\\n    port=3306\\n)'"
      ]
     },
     "execution_count": 6,
     "metadata": {},
     "output_type": "execute_result"
    }
   ],
   "source": [
    "'''mydb = connection.connect(\n",
    "    host=\"campusxdb-instance.c98zqacq3vgm.us-east-2.rds.amazonaws.com:3306\", \n",
    "    database = 'demodb',\n",
    "    user=\"root\", \n",
    "    passwd=\"12345678\",\n",
    "    port=3306\n",
    ")'''"
   ]
  },
  {
   "cell_type": "code",
   "execution_count": null,
   "metadata": {},
   "outputs": [],
   "source": []
  }
 ],
 "metadata": {
  "kernelspec": {
   "display_name": "Python 3",
   "language": "python",
   "name": "python3"
  },
  "language_info": {
   "codemirror_mode": {
    "name": "ipython",
    "version": 3
   },
   "file_extension": ".py",
   "mimetype": "text/x-python",
   "name": "python",
   "nbconvert_exporter": "python",
   "pygments_lexer": "ipython3",
   "version": "3.6.5"
  }
 },
 "nbformat": 4,
 "nbformat_minor": 2
}
